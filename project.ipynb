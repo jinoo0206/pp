{
 "cells": [
  {
   "cell_type": "code",
   "execution_count": 1,
   "id": "82ba3875",
   "metadata": {},
   "outputs": [],
   "source": [
    "import numpy as np\n",
    "import tensorflow as tf\n",
    "from tensorflow import keras\n",
    "import sys\n",
    "import matplotlib.pyplot as plt\n",
    "from IPython.display import Image\n",
    "import cv2\n",
    "import os\n",
    "import glob"
   ]
  },
  {
   "cell_type": "code",
   "execution_count": null,
   "id": "769716dc",
   "metadata": {},
   "outputs": [],
   "source": []
  },
  {
   "cell_type": "code",
   "execution_count": 8,
   "id": "313ffedb",
   "metadata": {},
   "outputs": [],
   "source": [
    "def goods(name):\n",
    "    \n",
    "    my_variable = name\n",
    "\n",
    "    cap = cv2.VideoCapture(0)\n",
    "\n",
    "    if not cap.isOpened():\n",
    "        print('video read failed')\n",
    "        sys.exit()\n",
    "\n",
    "    num = 0\n",
    "    \n",
    "    os.mkdir(f'{name}')\n",
    "    \n",
    "    while True:\n",
    "\n",
    "        ret , frame = cap.read()\n",
    "\n",
    "        if not ret:\n",
    "            print('Vodeo read failed')\n",
    "            break\n",
    "\n",
    "        cv2.imshow('frame',frame)\n",
    "\n",
    "        key = cv2.waitKey(20)\n",
    "\n",
    "        if key == 27:\n",
    "            break\n",
    "\n",
    "        elif key == ord('s'):\n",
    "            frame_filename = f\"./{name}/{name}{num:04d}.png\"\n",
    "            cv2.imwrite(frame_filename, frame)\n",
    "            target.append(i)\n",
    "            num += 1\n",
    "            \n",
    "    cap.release()\n",
    "    cv2.destroyAllWindows()\n",
    "    \n",
    "    return my_variable"
   ]
  },
  {
   "cell_type": "code",
   "execution_count": 12,
   "id": "b9de418a",
   "metadata": {},
   "outputs": [
    {
     "name": "stdout",
     "output_type": "stream",
     "text": [
      "3\n",
      "1\n",
      "2\n",
      "3\n"
     ]
    }
   ],
   "source": [
    "names = []\n",
    "target = []\n",
    "\n",
    "cnt = int(input())\n",
    "\n",
    "for i in range(cnt):\n",
    "    name = goods(input(''))\n",
    "    names.append(name)"
   ]
  },
  {
   "cell_type": "code",
   "execution_count": 13,
   "id": "512a7fcc",
   "metadata": {},
   "outputs": [
    {
     "data": {
      "text/plain": [
       "[0,\n",
       " 0,\n",
       " 0,\n",
       " 0,\n",
       " 0,\n",
       " 0,\n",
       " 0,\n",
       " 0,\n",
       " 0,\n",
       " 0,\n",
       " 1,\n",
       " 1,\n",
       " 1,\n",
       " 1,\n",
       " 1,\n",
       " 1,\n",
       " 1,\n",
       " 1,\n",
       " 1,\n",
       " 1,\n",
       " 2,\n",
       " 2,\n",
       " 2,\n",
       " 2,\n",
       " 2,\n",
       " 2,\n",
       " 2,\n",
       " 2,\n",
       " 2,\n",
       " 2]"
      ]
     },
     "execution_count": 13,
     "metadata": {},
     "output_type": "execute_result"
    }
   ],
   "source": [
    "target"
   ]
  },
  {
   "cell_type": "code",
   "execution_count": 64,
   "id": "020d3459",
   "metadata": {},
   "outputs": [
    {
     "name": "stdout",
     "output_type": "stream",
     "text": [
      "Model: \"model\"\n",
      "_________________________________________________________________\n",
      " Layer (type)                Output Shape              Param #   \n",
      "=================================================================\n",
      " input_1 (InputLayer)        [(None, 150, 150, 3)]     0         \n",
      "                                                                 \n",
      " conv2d (Conv2D)             (None, 148, 148, 64)      1792      \n",
      "                                                                 \n",
      " conv2d_1 (Conv2D)           (None, 146, 146, 32)      18464     \n",
      "                                                                 \n",
      " max_pooling2d (MaxPooling2D  (None, 73, 73, 32)       0         \n",
      " )                                                               \n",
      "                                                                 \n",
      " flatten (Flatten)           (None, 170528)            0         \n",
      "                                                                 \n",
      " dense (Dense)               (None, 120)               20463480  \n",
      "                                                                 \n",
      " dropout (Dropout)           (None, 120)               0         \n",
      "                                                                 \n",
      " dense_1 (Dense)             (None, 32)                3872      \n",
      "                                                                 \n",
      " dense_2 (Dense)             (None, 1)                 33        \n",
      "                                                                 \n",
      "=================================================================\n",
      "Total params: 20,487,641\n",
      "Trainable params: 20,487,641\n",
      "Non-trainable params: 0\n",
      "_________________________________________________________________\n"
     ]
    }
   ],
   "source": [
    "inputs = keras.Input(shape = (150, 150, 3))\n",
    "conv1 = keras.layers.Conv2D(64, kernel_size = 3, activation='relu')(inputs)\n",
    "conv2 = keras.layers.Conv2D(32, kernel_size = 3, activation='relu')(conv1)\n",
    "max_pool = keras.layers.MaxPool2D(pool_size = 2)(conv2)\n",
    "flatten = keras.layers.Flatten()(max_pool)\n",
    "dense1 = keras.layers.Dense(120, activation='relu')(flatten)\n",
    "drop_out = keras.layers.Dropout(0.3)(dense1)\n",
    "dense2 = keras.layers.Dense(32, activation='relu')(drop_out)\n",
    "dense3 = keras.layers.Dense(1, activation='sigmoid')(dense2)\n",
    "\n",
    "model = keras.Model(inputs = inputs, outputs = dense3)\n",
    "model.summary()"
   ]
  },
  {
   "cell_type": "code",
   "execution_count": 14,
   "id": "c3e20e10",
   "metadata": {},
   "outputs": [
    {
     "name": "stdout",
     "output_type": "stream",
     "text": [
      "30 30\n"
     ]
    }
   ],
   "source": [
    "img_paths = glob.glob(f'./{names}/*.*')\n",
    "\n",
    "print(len(img_paths), len(target))"
   ]
  },
  {
   "cell_type": "code",
   "execution_count": null,
   "id": "925fa0af",
   "metadata": {},
   "outputs": [],
   "source": [
    "## 1. 물건을 사진으로 찍어 물건의 이름으로 파일을 만들어 물건 이름으로 사진저장\n",
    "## 2. 물건이름마다의 인덱스 부여\n",
    "## 3. "
   ]
  }
 ],
 "metadata": {
  "kernelspec": {
   "display_name": "'project'",
   "language": "python",
   "name": "project"
  },
  "language_info": {
   "codemirror_mode": {
    "name": "ipython",
    "version": 3
   },
   "file_extension": ".py",
   "mimetype": "text/x-python",
   "name": "python",
   "nbconvert_exporter": "python",
   "pygments_lexer": "ipython3",
   "version": "3.9.0"
  }
 },
 "nbformat": 4,
 "nbformat_minor": 5
}
